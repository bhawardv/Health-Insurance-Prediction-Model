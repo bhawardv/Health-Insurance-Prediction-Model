{
 "cells": [
  {
   "cell_type": "code",
   "execution_count": 48,
   "id": "44939e36",
   "metadata": {},
   "outputs": [],
   "source": [
    "import pandas as pd\n",
    "import numpy as np\n",
    "import matplotlib.pyplot as plt\n",
    "import seaborn as sns\n",
    "import warnings\n",
    "warnings.filterwarnings('ignore')"
   ]
  },
  {
   "cell_type": "code",
   "execution_count": 49,
   "id": "42fd18d4",
   "metadata": {},
   "outputs": [],
   "source": [
    "data = pd.read_excel('Health_insurance.xlsx')"
   ]
  },
  {
   "cell_type": "code",
   "execution_count": 50,
   "id": "53ea4c02",
   "metadata": {},
   "outputs": [
    {
     "data": {
      "text/html": [
       "<div>\n",
       "<style scoped>\n",
       "    .dataframe tbody tr th:only-of-type {\n",
       "        vertical-align: middle;\n",
       "    }\n",
       "\n",
       "    .dataframe tbody tr th {\n",
       "        vertical-align: top;\n",
       "    }\n",
       "\n",
       "    .dataframe thead th {\n",
       "        text-align: right;\n",
       "    }\n",
       "</style>\n",
       "<table border=\"1\" class=\"dataframe\">\n",
       "  <thead>\n",
       "    <tr style=\"text-align: right;\">\n",
       "      <th></th>\n",
       "      <th>age</th>\n",
       "      <th>gender</th>\n",
       "      <th>BMI</th>\n",
       "      <th>Children</th>\n",
       "      <th>smoking_status</th>\n",
       "      <th>location</th>\n",
       "      <th>health_insurance_price</th>\n",
       "    </tr>\n",
       "  </thead>\n",
       "  <tbody>\n",
       "    <tr>\n",
       "      <th>0</th>\n",
       "      <td>19.0</td>\n",
       "      <td>female</td>\n",
       "      <td>NaN</td>\n",
       "      <td>0</td>\n",
       "      <td>yes</td>\n",
       "      <td>southwest</td>\n",
       "      <td>16884.92400</td>\n",
       "    </tr>\n",
       "    <tr>\n",
       "      <th>1</th>\n",
       "      <td>18.0</td>\n",
       "      <td>male</td>\n",
       "      <td>33.770</td>\n",
       "      <td>1</td>\n",
       "      <td>no</td>\n",
       "      <td>southeast</td>\n",
       "      <td>1725.55230</td>\n",
       "    </tr>\n",
       "    <tr>\n",
       "      <th>2</th>\n",
       "      <td>28.0</td>\n",
       "      <td>male</td>\n",
       "      <td>33.000</td>\n",
       "      <td>3</td>\n",
       "      <td>no</td>\n",
       "      <td>southeast</td>\n",
       "      <td>4449.46200</td>\n",
       "    </tr>\n",
       "    <tr>\n",
       "      <th>3</th>\n",
       "      <td>33.0</td>\n",
       "      <td>male</td>\n",
       "      <td>22.705</td>\n",
       "      <td>0</td>\n",
       "      <td>no</td>\n",
       "      <td>northwest</td>\n",
       "      <td>21984.47061</td>\n",
       "    </tr>\n",
       "    <tr>\n",
       "      <th>4</th>\n",
       "      <td>32.0</td>\n",
       "      <td>male</td>\n",
       "      <td>28.880</td>\n",
       "      <td>0</td>\n",
       "      <td>no</td>\n",
       "      <td>northwest</td>\n",
       "      <td>3866.85520</td>\n",
       "    </tr>\n",
       "  </tbody>\n",
       "</table>\n",
       "</div>"
      ],
      "text/plain": [
       "    age  gender     BMI  Children smoking_status   location  \\\n",
       "0  19.0  female     NaN         0            yes  southwest   \n",
       "1  18.0    male  33.770         1             no  southeast   \n",
       "2  28.0    male  33.000         3             no  southeast   \n",
       "3  33.0    male  22.705         0             no  northwest   \n",
       "4  32.0    male  28.880         0             no  northwest   \n",
       "\n",
       "   health_insurance_price  \n",
       "0             16884.92400  \n",
       "1              1725.55230  \n",
       "2              4449.46200  \n",
       "3             21984.47061  \n",
       "4              3866.85520  "
      ]
     },
     "execution_count": 50,
     "metadata": {},
     "output_type": "execute_result"
    }
   ],
   "source": [
    "data.head()"
   ]
  },
  {
   "cell_type": "code",
   "execution_count": 51,
   "id": "086fb80a",
   "metadata": {},
   "outputs": [
    {
     "name": "stdout",
     "output_type": "stream",
     "text": [
      "<class 'pandas.core.frame.DataFrame'>\n",
      "RangeIndex: 1338 entries, 0 to 1337\n",
      "Data columns (total 7 columns):\n",
      " #   Column                  Non-Null Count  Dtype  \n",
      "---  ------                  --------------  -----  \n",
      " 0   age                     1310 non-null   float64\n",
      " 1   gender                  1338 non-null   object \n",
      " 2   BMI                     1315 non-null   float64\n",
      " 3   Children                1338 non-null   int64  \n",
      " 4   smoking_status          1338 non-null   object \n",
      " 5   location                1338 non-null   object \n",
      " 6   health_insurance_price  1336 non-null   float64\n",
      "dtypes: float64(3), int64(1), object(3)\n",
      "memory usage: 73.3+ KB\n"
     ]
    }
   ],
   "source": [
    "data.info()"
   ]
  },
  {
   "cell_type": "markdown",
   "id": "3219e2de",
   "metadata": {},
   "source": [
    "### Feature Engineering Methods- \n",
    "1. Handling Missing Values- Imputation\n",
    "2. Encoding- where, map, LabelEncoding\n",
    "3. Feature Scaling - Normalization\n",
    "4. Correlation- Correlation Matrix, Heatmap"
   ]
  },
  {
   "cell_type": "markdown",
   "id": "cf821230",
   "metadata": {},
   "source": [
    "### Exploratory Data Analysis\n"
   ]
  },
  {
   "cell_type": "code",
   "execution_count": 52,
   "id": "cc287fc7",
   "metadata": {},
   "outputs": [
    {
     "data": {
      "text/plain": [
       "age                       28\n",
       "gender                     0\n",
       "BMI                       23\n",
       "Children                   0\n",
       "smoking_status             0\n",
       "location                   0\n",
       "health_insurance_price     2\n",
       "dtype: int64"
      ]
     },
     "execution_count": 52,
     "metadata": {},
     "output_type": "execute_result"
    }
   ],
   "source": [
    "data.isnull().sum()"
   ]
  },
  {
   "cell_type": "code",
   "execution_count": 53,
   "id": "84390b74",
   "metadata": {},
   "outputs": [
    {
     "data": {
      "text/plain": [
       "count     1336.000000\n",
       "mean     13268.527719\n",
       "std      12112.797724\n",
       "min       1121.873900\n",
       "25%       4744.325050\n",
       "50%       9382.033000\n",
       "75%      16604.302645\n",
       "max      63770.428010\n",
       "Name: health_insurance_price, dtype: float64"
      ]
     },
     "execution_count": 53,
     "metadata": {},
     "output_type": "execute_result"
    }
   ],
   "source": [
    "data['health_insurance_price'].describe()"
   ]
  },
  {
   "cell_type": "code",
   "execution_count": 54,
   "id": "a2d00de2",
   "metadata": {},
   "outputs": [],
   "source": [
    "data['health_insurance_price'].fillna(data['health_insurance_price'].median(), inplace= True)"
   ]
  },
  {
   "cell_type": "code",
   "execution_count": 55,
   "id": "ac96ed65",
   "metadata": {},
   "outputs": [
    {
     "data": {
      "text/plain": [
       "count    1310.000000\n",
       "mean       39.166412\n",
       "std        14.055378\n",
       "min        18.000000\n",
       "25%        26.000000\n",
       "50%        39.000000\n",
       "75%        51.000000\n",
       "max        64.000000\n",
       "Name: age, dtype: float64"
      ]
     },
     "execution_count": 55,
     "metadata": {},
     "output_type": "execute_result"
    }
   ],
   "source": [
    "data['age'].describe()"
   ]
  },
  {
   "cell_type": "code",
   "execution_count": 56,
   "id": "72aa2005",
   "metadata": {},
   "outputs": [],
   "source": [
    "data['age'].fillna(data['age'].median(), inplace= True)"
   ]
  },
  {
   "cell_type": "code",
   "execution_count": 57,
   "id": "021f1bad",
   "metadata": {},
   "outputs": [
    {
     "data": {
      "text/plain": [
       "Index(['age', 'gender', 'BMI', 'Children', 'smoking_status', 'location',\n",
       "       'health_insurance_price'],\n",
       "      dtype='object')"
      ]
     },
     "execution_count": 57,
     "metadata": {},
     "output_type": "execute_result"
    }
   ],
   "source": [
    "data.columns"
   ]
  },
  {
   "cell_type": "code",
   "execution_count": 58,
   "id": "43f697c2",
   "metadata": {},
   "outputs": [
    {
     "data": {
      "text/plain": [
       "count    1315.000000\n",
       "mean       30.638217\n",
       "std         6.110302\n",
       "min        15.960000\n",
       "25%        26.210000\n",
       "50%        30.305000\n",
       "75%        34.580000\n",
       "max        53.130000\n",
       "Name: BMI, dtype: float64"
      ]
     },
     "execution_count": 58,
     "metadata": {},
     "output_type": "execute_result"
    }
   ],
   "source": [
    "data['BMI'].describe()"
   ]
  },
  {
   "cell_type": "code",
   "execution_count": 59,
   "id": "8bd694fa",
   "metadata": {},
   "outputs": [],
   "source": [
    "data['BMI'].fillna(data['BMI'].median(), inplace= True)"
   ]
  },
  {
   "cell_type": "code",
   "execution_count": 60,
   "id": "60ad6a96",
   "metadata": {},
   "outputs": [
    {
     "data": {
      "text/html": [
       "<div>\n",
       "<style scoped>\n",
       "    .dataframe tbody tr th:only-of-type {\n",
       "        vertical-align: middle;\n",
       "    }\n",
       "\n",
       "    .dataframe tbody tr th {\n",
       "        vertical-align: top;\n",
       "    }\n",
       "\n",
       "    .dataframe thead th {\n",
       "        text-align: right;\n",
       "    }\n",
       "</style>\n",
       "<table border=\"1\" class=\"dataframe\">\n",
       "  <thead>\n",
       "    <tr style=\"text-align: right;\">\n",
       "      <th></th>\n",
       "      <th>age</th>\n",
       "      <th>BMI</th>\n",
       "      <th>Children</th>\n",
       "      <th>health_insurance_price</th>\n",
       "    </tr>\n",
       "  </thead>\n",
       "  <tbody>\n",
       "    <tr>\n",
       "      <th>count</th>\n",
       "      <td>1338.000000</td>\n",
       "      <td>1338.000000</td>\n",
       "      <td>1338.000000</td>\n",
       "      <td>1338.000000</td>\n",
       "    </tr>\n",
       "    <tr>\n",
       "      <th>mean</th>\n",
       "      <td>39.162930</td>\n",
       "      <td>30.632489</td>\n",
       "      <td>1.094918</td>\n",
       "      <td>13262.718310</td>\n",
       "    </tr>\n",
       "    <tr>\n",
       "      <th>std</th>\n",
       "      <td>13.907443</td>\n",
       "      <td>6.057672</td>\n",
       "      <td>1.205493</td>\n",
       "      <td>12104.666613</td>\n",
       "    </tr>\n",
       "    <tr>\n",
       "      <th>min</th>\n",
       "      <td>18.000000</td>\n",
       "      <td>15.960000</td>\n",
       "      <td>0.000000</td>\n",
       "      <td>1121.873900</td>\n",
       "    </tr>\n",
       "    <tr>\n",
       "      <th>25%</th>\n",
       "      <td>27.000000</td>\n",
       "      <td>26.315000</td>\n",
       "      <td>0.000000</td>\n",
       "      <td>4746.521225</td>\n",
       "    </tr>\n",
       "    <tr>\n",
       "      <th>50%</th>\n",
       "      <td>39.000000</td>\n",
       "      <td>30.305000</td>\n",
       "      <td>1.000000</td>\n",
       "      <td>9382.033000</td>\n",
       "    </tr>\n",
       "    <tr>\n",
       "      <th>75%</th>\n",
       "      <td>51.000000</td>\n",
       "      <td>34.430000</td>\n",
       "      <td>2.000000</td>\n",
       "      <td>16584.318157</td>\n",
       "    </tr>\n",
       "    <tr>\n",
       "      <th>max</th>\n",
       "      <td>64.000000</td>\n",
       "      <td>53.130000</td>\n",
       "      <td>5.000000</td>\n",
       "      <td>63770.428010</td>\n",
       "    </tr>\n",
       "  </tbody>\n",
       "</table>\n",
       "</div>"
      ],
      "text/plain": [
       "               age          BMI     Children  health_insurance_price\n",
       "count  1338.000000  1338.000000  1338.000000             1338.000000\n",
       "mean     39.162930    30.632489     1.094918            13262.718310\n",
       "std      13.907443     6.057672     1.205493            12104.666613\n",
       "min      18.000000    15.960000     0.000000             1121.873900\n",
       "25%      27.000000    26.315000     0.000000             4746.521225\n",
       "50%      39.000000    30.305000     1.000000             9382.033000\n",
       "75%      51.000000    34.430000     2.000000            16584.318157\n",
       "max      64.000000    53.130000     5.000000            63770.428010"
      ]
     },
     "execution_count": 60,
     "metadata": {},
     "output_type": "execute_result"
    }
   ],
   "source": [
    "data.describe()"
   ]
  },
  {
   "cell_type": "code",
   "execution_count": 61,
   "id": "5e5f3140",
   "metadata": {},
   "outputs": [
    {
     "name": "stdout",
     "output_type": "stream",
     "text": [
      "               age       BMI  Children\n",
      "age       1.000000  0.107637  0.041057\n",
      "BMI       0.107637  1.000000  0.009742\n",
      "Children  0.041057  0.009742  1.000000\n"
     ]
    }
   ],
   "source": [
    "correlation_matrix = data[['age','BMI', 'Children']].corr()\n",
    "print(correlation_matrix)"
   ]
  },
  {
   "cell_type": "code",
   "execution_count": 62,
   "id": "f3d3c852",
   "metadata": {},
   "outputs": [
    {
     "data": {
      "text/plain": [
       "<Axes: >"
      ]
     },
     "execution_count": 62,
     "metadata": {},
     "output_type": "execute_result"
    },
    {
     "data": {
      "image/png": "[encoded data removed]",
      "text/plain": [
       "<Figure size 640x480 with 2 Axes>"
      ]
     },
     "metadata": {},
     "output_type": "display_data"
    }
   ],
   "source": [
    "sns.heatmap(correlation_matrix,annot=True, cmap='coolwarm', fmt=\".2f\")"
   ]
  },
  {
   "cell_type": "markdown",
   "id": "51dd4a25",
   "metadata": {},
   "source": [
    "### Essential Pattern in EDA\n",
    "- All the independent variables have no such correlation or no multicollinearity."
   ]
  },
  {
   "cell_type": "markdown",
   "id": "91f35b2f",
   "metadata": {},
   "source": [
    "### Encoding"
   ]
  },
  {
   "cell_type": "code",
   "execution_count": 63,
   "id": "ca8c67e3",
   "metadata": {},
   "outputs": [],
   "source": [
    "data['gender']= np.where(data['gender']== 'male', 1, 0)"
   ]
  },
  {
   "cell_type": "code",
   "execution_count": 64,
   "id": "fc899a5e",
   "metadata": {},
   "outputs": [],
   "source": [
    "data['smoking_status']= data['smoking_status'].map({'yes':1, 'no':0})"
   ]
  },
  {
   "cell_type": "code",
   "execution_count": 65,
   "id": "e3c89981",
   "metadata": {},
   "outputs": [],
   "source": [
    "from sklearn.preprocessing import LabelEncoder\n",
    "le = LabelEncoder()\n",
    "data['location']= le.fit_transform(data['location'])"
   ]
  },
  {
   "cell_type": "code",
   "execution_count": 66,
   "id": "7cf21610",
   "metadata": {},
   "outputs": [
    {
     "data": {
      "text/html": [
       "<div>\n",
       "<style scoped>\n",
       "    .dataframe tbody tr th:only-of-type {\n",
       "        vertical-align: middle;\n",
       "    }\n",
       "\n",
       "    .dataframe tbody tr th {\n",
       "        vertical-align: top;\n",
       "    }\n",
       "\n",
       "    .dataframe thead th {\n",
       "        text-align: right;\n",
       "    }\n",
       "</style>\n",
       "<table border=\"1\" class=\"dataframe\">\n",
       "  <thead>\n",
       "    <tr style=\"text-align: right;\">\n",
       "      <th></th>\n",
       "      <th>age</th>\n",
       "      <th>gender</th>\n",
       "      <th>BMI</th>\n",
       "      <th>Children</th>\n",
       "      <th>smoking_status</th>\n",
       "      <th>location</th>\n",
       "      <th>health_insurance_price</th>\n",
       "    </tr>\n",
       "  </thead>\n",
       "  <tbody>\n",
       "    <tr>\n",
       "      <th>0</th>\n",
       "      <td>19.0</td>\n",
       "      <td>0</td>\n",
       "      <td>30.305</td>\n",
       "      <td>0</td>\n",
       "      <td>1</td>\n",
       "      <td>3</td>\n",
       "      <td>16884.92400</td>\n",
       "    </tr>\n",
       "    <tr>\n",
       "      <th>1</th>\n",
       "      <td>18.0</td>\n",
       "      <td>1</td>\n",
       "      <td>33.770</td>\n",
       "      <td>1</td>\n",
       "      <td>0</td>\n",
       "      <td>2</td>\n",
       "      <td>1725.55230</td>\n",
       "    </tr>\n",
       "    <tr>\n",
       "      <th>2</th>\n",
       "      <td>28.0</td>\n",
       "      <td>1</td>\n",
       "      <td>33.000</td>\n",
       "      <td>3</td>\n",
       "      <td>0</td>\n",
       "      <td>2</td>\n",
       "      <td>4449.46200</td>\n",
       "    </tr>\n",
       "    <tr>\n",
       "      <th>3</th>\n",
       "      <td>33.0</td>\n",
       "      <td>1</td>\n",
       "      <td>22.705</td>\n",
       "      <td>0</td>\n",
       "      <td>0</td>\n",
       "      <td>1</td>\n",
       "      <td>21984.47061</td>\n",
       "    </tr>\n",
       "    <tr>\n",
       "      <th>4</th>\n",
       "      <td>32.0</td>\n",
       "      <td>1</td>\n",
       "      <td>28.880</td>\n",
       "      <td>0</td>\n",
       "      <td>0</td>\n",
       "      <td>1</td>\n",
       "      <td>3866.85520</td>\n",
       "    </tr>\n",
       "  </tbody>\n",
       "</table>\n",
       "</div>"
      ],
      "text/plain": [
       "    age  gender     BMI  Children  smoking_status  location  \\\n",
       "0  19.0       0  30.305         0               1         3   \n",
       "1  18.0       1  33.770         1               0         2   \n",
       "2  28.0       1  33.000         3               0         2   \n",
       "3  33.0       1  22.705         0               0         1   \n",
       "4  32.0       1  28.880         0               0         1   \n",
       "\n",
       "   health_insurance_price  \n",
       "0             16884.92400  \n",
       "1              1725.55230  \n",
       "2              4449.46200  \n",
       "3             21984.47061  \n",
       "4              3866.85520  "
      ]
     },
     "execution_count": 66,
     "metadata": {},
     "output_type": "execute_result"
    }
   ],
   "source": [
    "data.head()"
   ]
  },
  {
   "cell_type": "markdown",
   "id": "0a1328cf",
   "metadata": {},
   "source": [
    "### Feature Scaling"
   ]
  },
  {
   "cell_type": "code",
   "execution_count": 67,
   "id": "7e13c370",
   "metadata": {},
   "outputs": [],
   "source": [
    "from sklearn.preprocessing import MinMaxScaler"
   ]
  },
  {
   "cell_type": "code",
   "execution_count": 71,
   "id": "8532f03c",
   "metadata": {},
   "outputs": [],
   "source": [
    "scaler = MinMaxScaler()\n",
    "col_scale = ['age', 'gender', 'BMI', 'Children', 'smoking_status', 'location']\n",
    "data[col_scale] = scaler.fit_transform(data[col_scale])"
   ]
  },
  {
   "cell_type": "code",
   "execution_count": 72,
   "id": "5803bcfa",
   "metadata": {},
   "outputs": [
    {
     "data": {
      "text/html": [
       "<div>\n",
       "<style scoped>\n",
       "    .dataframe tbody tr th:only-of-type {\n",
       "        vertical-align: middle;\n",
       "    }\n",
       "\n",
       "    .dataframe tbody tr th {\n",
       "        vertical-align: top;\n",
       "    }\n",
       "\n",
       "    .dataframe thead th {\n",
       "        text-align: right;\n",
       "    }\n",
       "</style>\n",
       "<table border=\"1\" class=\"dataframe\">\n",
       "  <thead>\n",
       "    <tr style=\"text-align: right;\">\n",
       "      <th></th>\n",
       "      <th>age</th>\n",
       "      <th>gender</th>\n",
       "      <th>BMI</th>\n",
       "      <th>Children</th>\n",
       "      <th>smoking_status</th>\n",
       "      <th>location</th>\n",
       "    </tr>\n",
       "  </thead>\n",
       "  <tbody>\n",
       "    <tr>\n",
       "      <th>0</th>\n",
       "      <td>0.021739</td>\n",
       "      <td>0.0</td>\n",
       "      <td>0.385930</td>\n",
       "      <td>0.0</td>\n",
       "      <td>1.0</td>\n",
       "      <td>1.000000</td>\n",
       "    </tr>\n",
       "    <tr>\n",
       "      <th>1</th>\n",
       "      <td>0.000000</td>\n",
       "      <td>1.0</td>\n",
       "      <td>0.479150</td>\n",
       "      <td>0.2</td>\n",
       "      <td>0.0</td>\n",
       "      <td>0.666667</td>\n",
       "    </tr>\n",
       "    <tr>\n",
       "      <th>2</th>\n",
       "      <td>0.217391</td>\n",
       "      <td>1.0</td>\n",
       "      <td>0.458434</td>\n",
       "      <td>0.6</td>\n",
       "      <td>0.0</td>\n",
       "      <td>0.666667</td>\n",
       "    </tr>\n",
       "    <tr>\n",
       "      <th>3</th>\n",
       "      <td>0.326087</td>\n",
       "      <td>1.0</td>\n",
       "      <td>0.181464</td>\n",
       "      <td>0.0</td>\n",
       "      <td>0.0</td>\n",
       "      <td>0.333333</td>\n",
       "    </tr>\n",
       "    <tr>\n",
       "      <th>4</th>\n",
       "      <td>0.304348</td>\n",
       "      <td>1.0</td>\n",
       "      <td>0.347592</td>\n",
       "      <td>0.0</td>\n",
       "      <td>0.0</td>\n",
       "      <td>0.333333</td>\n",
       "    </tr>\n",
       "    <tr>\n",
       "      <th>...</th>\n",
       "      <td>...</td>\n",
       "      <td>...</td>\n",
       "      <td>...</td>\n",
       "      <td>...</td>\n",
       "      <td>...</td>\n",
       "      <td>...</td>\n",
       "    </tr>\n",
       "    <tr>\n",
       "      <th>1333</th>\n",
       "      <td>0.695652</td>\n",
       "      <td>1.0</td>\n",
       "      <td>0.403820</td>\n",
       "      <td>0.6</td>\n",
       "      <td>0.0</td>\n",
       "      <td>0.333333</td>\n",
       "    </tr>\n",
       "    <tr>\n",
       "      <th>1334</th>\n",
       "      <td>0.000000</td>\n",
       "      <td>0.0</td>\n",
       "      <td>0.429379</td>\n",
       "      <td>0.0</td>\n",
       "      <td>0.0</td>\n",
       "      <td>0.000000</td>\n",
       "    </tr>\n",
       "    <tr>\n",
       "      <th>1335</th>\n",
       "      <td>0.000000</td>\n",
       "      <td>0.0</td>\n",
       "      <td>0.562012</td>\n",
       "      <td>0.0</td>\n",
       "      <td>0.0</td>\n",
       "      <td>0.666667</td>\n",
       "    </tr>\n",
       "    <tr>\n",
       "      <th>1336</th>\n",
       "      <td>0.065217</td>\n",
       "      <td>0.0</td>\n",
       "      <td>0.264730</td>\n",
       "      <td>0.0</td>\n",
       "      <td>0.0</td>\n",
       "      <td>1.000000</td>\n",
       "    </tr>\n",
       "    <tr>\n",
       "      <th>1337</th>\n",
       "      <td>0.934783</td>\n",
       "      <td>0.0</td>\n",
       "      <td>0.352704</td>\n",
       "      <td>0.0</td>\n",
       "      <td>1.0</td>\n",
       "      <td>0.333333</td>\n",
       "    </tr>\n",
       "  </tbody>\n",
       "</table>\n",
       "<p>1338 rows × 6 columns</p>\n",
       "</div>"
      ],
      "text/plain": [
       "           age  gender       BMI  Children  smoking_status  location\n",
       "0     0.021739     0.0  0.385930       0.0             1.0  1.000000\n",
       "1     0.000000     1.0  0.479150       0.2             0.0  0.666667\n",
       "2     0.217391     1.0  0.458434       0.6             0.0  0.666667\n",
       "3     0.326087     1.0  0.181464       0.0             0.0  0.333333\n",
       "4     0.304348     1.0  0.347592       0.0             0.0  0.333333\n",
       "...        ...     ...       ...       ...             ...       ...\n",
       "1333  0.695652     1.0  0.403820       0.6             0.0  0.333333\n",
       "1334  0.000000     0.0  0.429379       0.0             0.0  0.000000\n",
       "1335  0.000000     0.0  0.562012       0.0             0.0  0.666667\n",
       "1336  0.065217     0.0  0.264730       0.0             0.0  1.000000\n",
       "1337  0.934783     0.0  0.352704       0.0             1.0  0.333333\n",
       "\n",
       "[1338 rows x 6 columns]"
      ]
     },
     "execution_count": 72,
     "metadata": {},
     "output_type": "execute_result"
    }
   ],
   "source": [
    "data[col_scale]"
   ]
  },
  {
   "cell_type": "markdown",
   "id": "a9cf819e",
   "metadata": {},
   "source": [
    "### Variable Assigning"
   ]
  },
  {
   "cell_type": "code",
   "execution_count": 73,
   "id": "a2bfac0f",
   "metadata": {},
   "outputs": [
    {
     "data": {
      "text/plain": [
       "Index(['age', 'gender', 'BMI', 'Children', 'smoking_status', 'location',\n",
       "       'health_insurance_price'],\n",
       "      dtype='object')"
      ]
     },
     "execution_count": 73,
     "metadata": {},
     "output_type": "execute_result"
    }
   ],
   "source": [
    "data.columns"
   ]
  },
  {
   "cell_type": "code",
   "execution_count": 74,
   "id": "ae1c5090",
   "metadata": {},
   "outputs": [],
   "source": [
    "X= data[['age', 'gender', 'BMI', 'Children', 'smoking_status', 'location']]\n",
    "y= data['health_insurance_price']"
   ]
  },
  {
   "cell_type": "markdown",
   "id": "59c6d34b",
   "metadata": {},
   "source": [
    "### Training and Testing"
   ]
  },
  {
   "cell_type": "code",
   "execution_count": 75,
   "id": "81be2242",
   "metadata": {},
   "outputs": [],
   "source": [
    "from sklearn.model_selection import train_test_split\n",
    "X_train,X_test,y_train,y_test= train_test_split(X,y,test_size=0.2, random_state=42)"
   ]
  },
  {
   "cell_type": "markdown",
   "id": "5af6c68c",
   "metadata": {},
   "source": [
    "### Methods Used for ML Model\n",
    "- Linear Regression\n",
    "- Support Vector Machine\n",
    "- Random Forest\n",
    "- Gradient Boosting"
   ]
  },
  {
   "cell_type": "markdown",
   "id": "1b143e16",
   "metadata": {},
   "source": [
    "### Building Model and Build Model on Training data-"
   ]
  },
  {
   "cell_type": "code",
   "execution_count": 76,
   "id": "8bbf7c0c",
   "metadata": {},
   "outputs": [],
   "source": [
    "from sklearn.linear_model import LinearRegression\n",
    "from sklearn.svm import SVR\n",
    "from sklearn.ensemble import RandomForestRegressor\n",
    "from sklearn.ensemble import GradientBoostingRegressor"
   ]
  },
  {
   "cell_type": "code",
   "execution_count": 77,
   "id": "5cdb1eb2",
   "metadata": {},
   "outputs": [
    {
     "data": {
      "text/html": [
       "<style>#sk-container-id-2 {color: black;background-color: white;}#sk-container-id-2 pre{padding: 0;}#sk-container-id-2 div.sk-toggleable {background-color: white;}#sk-container-id-2 label.sk-toggleable__label {cursor: pointer;display: block;width: 100%;margin-bottom: 0;padding: 0.3em;box-sizing: border-box;text-align: center;}#sk-container-id-2 label.sk-toggleable__label-arrow:before {content: \"▸\";float: left;margin-right: 0.25em;color: #696969;}#sk-container-id-2 label.sk-toggleable__label-arrow:hover:before {color: black;}#sk-container-id-2 div.sk-estimator:hover label.sk-toggleable__label-arrow:before {color: black;}#sk-container-id-2 div.sk-toggleable__content {max-height: 0;max-width: 0;overflow: hidden;text-align: left;background-color: #f0f8ff;}#sk-container-id-2 div.sk-toggleable__content pre {margin: 0.2em;color: black;border-radius: 0.25em;background-color: #f0f8ff;}#sk-container-id-2 input.sk-toggleable__control:checked~div.sk-toggleable__content {max-height: 200px;max-width: 100%;overflow: auto;}#sk-container-id-2 input.sk-toggleable__control:checked~label.sk-toggleable__label-arrow:before {content: \"▾\";}#sk-container-id-2 div.sk-estimator input.sk-toggleable__control:checked~label.sk-toggleable__label {background-color: #d4ebff;}#sk-container-id-2 div.sk-label input.sk-toggleable__control:checked~label.sk-toggleable__label {background-color: #d4ebff;}#sk-container-id-2 input.sk-hidden--visually {border: 0;clip: rect(1px 1px 1px 1px);clip: rect(1px, 1px, 1px, 1px);height: 1px;margin: -1px;overflow: hidden;padding: 0;position: absolute;width: 1px;}#sk-container-id-2 div.sk-estimator {font-family: monospace;background-color: #f0f8ff;border: 1px dotted black;border-radius: 0.25em;box-sizing: border-box;margin-bottom: 0.5em;}#sk-container-id-2 div.sk-estimator:hover {background-color: #d4ebff;}#sk-container-id-2 div.sk-parallel-item::after {content: \"\";width: 100%;border-bottom: 1px solid gray;flex-grow: 1;}#sk-container-id-2 div.sk-label:hover label.sk-toggleable__label {background-color: #d4ebff;}#sk-container-id-2 div.sk-serial::before {content: \"\";position: absolute;border-left: 1px solid gray;box-sizing: border-box;top: 0;bottom: 0;left: 50%;z-index: 0;}#sk-container-id-2 div.sk-serial {display: flex;flex-direction: column;align-items: center;background-color: white;padding-right: 0.2em;padding-left: 0.2em;position: relative;}#sk-container-id-2 div.sk-item {position: relative;z-index: 1;}#sk-container-id-2 div.sk-parallel {display: flex;align-items: stretch;justify-content: center;background-color: white;position: relative;}#sk-container-id-2 div.sk-item::before, #sk-container-id-2 div.sk-parallel-item::before {content: \"\";position: absolute;border-left: 1px solid gray;box-sizing: border-box;top: 0;bottom: 0;left: 50%;z-index: -1;}#sk-container-id-2 div.sk-parallel-item {display: flex;flex-direction: column;z-index: 1;position: relative;background-color: white;}#sk-container-id-2 div.sk-parallel-item:first-child::after {align-self: flex-end;width: 50%;}#sk-container-id-2 div.sk-parallel-item:last-child::after {align-self: flex-start;width: 50%;}#sk-container-id-2 div.sk-parallel-item:only-child::after {width: 0;}#sk-container-id-2 div.sk-dashed-wrapped {border: 1px dashed gray;margin: 0 0.4em 0.5em 0.4em;box-sizing: border-box;padding-bottom: 0.4em;background-color: white;}#sk-container-id-2 div.sk-label label {font-family: monospace;font-weight: bold;display: inline-block;line-height: 1.2em;}#sk-container-id-2 div.sk-label-container {text-align: center;}#sk-container-id-2 div.sk-container {/* jupyter's `normalize.less` sets `[hidden] { display: none; }` but bootstrap.min.css set `[hidden] { display: none !important; }` so we also need the `!important` here to be able to override the default hidden behavior on the sphinx rendered scikit-learn.org. See: https://github.com/scikit-learn/scikit-learn/issues/21755 */display: inline-block !important;position: relative;}#sk-container-id-2 div.sk-text-repr-fallback {display: none;}</style><div id=\"sk-container-id-2\" class=\"sk-top-container\"><div class=\"sk-text-repr-fallback\"><pre>GradientBoostingRegressor()</pre><b>In a Jupyter environment, please rerun this cell to show the HTML representation or trust the notebook. <br />On GitHub, the HTML representation is unable to render, please try loading this page with nbviewer.org.</b></div><div class=\"sk-container\" hidden><div class=\"sk-item\"><div class=\"sk-estimator sk-toggleable\"><input class=\"sk-toggleable__control sk-hidden--visually\" id=\"sk-estimator-id-2\" type=\"checkbox\" checked><label for=\"sk-estimator-id-2\" class=\"sk-toggleable__label sk-toggleable__label-arrow\">GradientBoostingRegressor</label><div class=\"sk-toggleable__content\"><pre>GradientBoostingRegressor()</pre></div></div></div></div></div>"
      ],
      "text/plain": [
       "GradientBoostingRegressor()"
      ]
     },
     "execution_count": 77,
     "metadata": {},
     "output_type": "execute_result"
    }
   ],
   "source": [
    "lr= LinearRegression()\n",
    "lr.fit(X_train,y_train)\n",
    "svr=SVR()\n",
    "svr.fit(X_train,y_train)\n",
    "rf=RandomForestRegressor()\n",
    "rf.fit(X_train,y_train)\n",
    "gb=GradientBoostingRegressor()\n",
    "gb.fit(X_train,y_train)"
   ]
  },
  {
   "cell_type": "markdown",
   "id": "375c426d",
   "metadata": {},
   "source": [
    "### Making Predictions"
   ]
  },
  {
   "cell_type": "code",
   "execution_count": 78,
   "id": "6df73ab7",
   "metadata": {},
   "outputs": [],
   "source": [
    "y_pred1=lr.predict(X_test)\n",
    "y_pred2=svr.predict(X_test)\n",
    "y_pred3=rf.predict(X_test)\n",
    "y_pred4=gb.predict(X_test)"
   ]
  },
  {
   "cell_type": "code",
   "execution_count": 79,
   "id": "60c072b1",
   "metadata": {},
   "outputs": [
    {
     "data": {
      "text/html": [
       "<div>\n",
       "<style scoped>\n",
       "    .dataframe tbody tr th:only-of-type {\n",
       "        vertical-align: middle;\n",
       "    }\n",
       "\n",
       "    .dataframe tbody tr th {\n",
       "        vertical-align: top;\n",
       "    }\n",
       "\n",
       "    .dataframe thead th {\n",
       "        text-align: right;\n",
       "    }\n",
       "</style>\n",
       "<table border=\"1\" class=\"dataframe\">\n",
       "  <thead>\n",
       "    <tr style=\"text-align: right;\">\n",
       "      <th></th>\n",
       "      <th>Actual</th>\n",
       "      <th>LR</th>\n",
       "      <th>SVR</th>\n",
       "      <th>RF</th>\n",
       "      <th>GB</th>\n",
       "    </tr>\n",
       "  </thead>\n",
       "  <tbody>\n",
       "    <tr>\n",
       "      <th>764</th>\n",
       "      <td>9095.06825</td>\n",
       "      <td>8921.349260</td>\n",
       "      <td>9569.539471</td>\n",
       "      <td>12203.575290</td>\n",
       "      <td>11059.856434</td>\n",
       "    </tr>\n",
       "    <tr>\n",
       "      <th>887</th>\n",
       "      <td>5272.17580</td>\n",
       "      <td>7141.095601</td>\n",
       "      <td>9521.635524</td>\n",
       "      <td>5463.438472</td>\n",
       "      <td>6286.975044</td>\n",
       "    </tr>\n",
       "    <tr>\n",
       "      <th>890</th>\n",
       "      <td>29330.98315</td>\n",
       "      <td>36715.174447</td>\n",
       "      <td>9663.082521</td>\n",
       "      <td>28151.810173</td>\n",
       "      <td>27216.930467</td>\n",
       "    </tr>\n",
       "    <tr>\n",
       "      <th>1293</th>\n",
       "      <td>9301.89355</td>\n",
       "      <td>9530.533866</td>\n",
       "      <td>9551.762063</td>\n",
       "      <td>11029.035209</td>\n",
       "      <td>9787.679647</td>\n",
       "    </tr>\n",
       "    <tr>\n",
       "      <th>259</th>\n",
       "      <td>33750.29180</td>\n",
       "      <td>32065.841074</td>\n",
       "      <td>9672.050263</td>\n",
       "      <td>39854.190167</td>\n",
       "      <td>40873.491750</td>\n",
       "    </tr>\n",
       "    <tr>\n",
       "      <th>...</th>\n",
       "      <td>...</td>\n",
       "      <td>...</td>\n",
       "      <td>...</td>\n",
       "      <td>...</td>\n",
       "      <td>...</td>\n",
       "    </tr>\n",
       "    <tr>\n",
       "      <th>109</th>\n",
       "      <td>47055.53210</td>\n",
       "      <td>38939.138796</td>\n",
       "      <td>9672.532764</td>\n",
       "      <td>48187.626476</td>\n",
       "      <td>45470.546056</td>\n",
       "    </tr>\n",
       "    <tr>\n",
       "      <th>575</th>\n",
       "      <td>12222.89830</td>\n",
       "      <td>11767.216805</td>\n",
       "      <td>9599.509255</td>\n",
       "      <td>12583.073665</td>\n",
       "      <td>12050.926358</td>\n",
       "    </tr>\n",
       "    <tr>\n",
       "      <th>535</th>\n",
       "      <td>6067.12675</td>\n",
       "      <td>7682.204023</td>\n",
       "      <td>9534.859967</td>\n",
       "      <td>6551.156839</td>\n",
       "      <td>6688.226512</td>\n",
       "    </tr>\n",
       "    <tr>\n",
       "      <th>543</th>\n",
       "      <td>63770.42801</td>\n",
       "      <td>40756.653242</td>\n",
       "      <td>9653.406347</td>\n",
       "      <td>46904.879192</td>\n",
       "      <td>47551.788571</td>\n",
       "    </tr>\n",
       "    <tr>\n",
       "      <th>846</th>\n",
       "      <td>9872.70100</td>\n",
       "      <td>12226.869175</td>\n",
       "      <td>9571.048055</td>\n",
       "      <td>9753.850454</td>\n",
       "      <td>10186.611790</td>\n",
       "    </tr>\n",
       "  </tbody>\n",
       "</table>\n",
       "<p>268 rows × 5 columns</p>\n",
       "</div>"
      ],
      "text/plain": [
       "           Actual            LR          SVR            RF            GB\n",
       "764    9095.06825   8921.349260  9569.539471  12203.575290  11059.856434\n",
       "887    5272.17580   7141.095601  9521.635524   5463.438472   6286.975044\n",
       "890   29330.98315  36715.174447  9663.082521  28151.810173  27216.930467\n",
       "1293   9301.89355   9530.533866  9551.762063  11029.035209   9787.679647\n",
       "259   33750.29180  32065.841074  9672.050263  39854.190167  40873.491750\n",
       "...           ...           ...          ...           ...           ...\n",
       "109   47055.53210  38939.138796  9672.532764  48187.626476  45470.546056\n",
       "575   12222.89830  11767.216805  9599.509255  12583.073665  12050.926358\n",
       "535    6067.12675   7682.204023  9534.859967   6551.156839   6688.226512\n",
       "543   63770.42801  40756.653242  9653.406347  46904.879192  47551.788571\n",
       "846    9872.70100  12226.869175  9571.048055   9753.850454  10186.611790\n",
       "\n",
       "[268 rows x 5 columns]"
      ]
     },
     "execution_count": 79,
     "metadata": {},
     "output_type": "execute_result"
    }
   ],
   "source": [
    "df= pd.DataFrame({'Actual':y_test, 'LR':y_pred1, 'SVR':y_pred2, 'RF':y_pred3, 'GB':y_pred4})\n",
    "df"
   ]
  },
  {
   "cell_type": "code",
   "execution_count": 80,
   "id": "027682b6",
   "metadata": {},
   "outputs": [
    {
     "data": {
      "text/plain": [
       "<Axes: >"
      ]
     },
     "execution_count": 80,
     "metadata": {},
     "output_type": "execute_result"
    },
    {
     "data": {
      "image/png": "[encoded data removed]",
      "text/plain": [
       "<Figure size 640x480 with 2 Axes>"
      ]
     },
     "metadata": {},
     "output_type": "display_data"
    }
   ],
   "source": [
    "cm=df.corr()\n",
    "sns.heatmap(cm, annot=True, cmap='coolwarm', fmt=\".2f\")"
   ]
  },
  {
   "cell_type": "markdown",
   "id": "629020aa",
   "metadata": {},
   "source": [
    "### Model Comparison-"
   ]
  },
  {
   "cell_type": "code",
   "execution_count": 81,
   "id": "20d13d3c",
   "metadata": {},
   "outputs": [
    {
     "data": {
      "text/plain": [
       "<matplotlib.legend.Legend at 0x20fc0a0e800>"
      ]
     },
     "execution_count": 81,
     "metadata": {},
     "output_type": "execute_result"
    },
    {
     "data": {
      "image/png": "[encoded data removed]",
      "text/plain": [
       "<Figure size 640x480 with 4 Axes>"
      ]
     },
     "metadata": {},
     "output_type": "display_data"
    }
   ],
   "source": [
    "plt.subplot(221)\n",
    "plt.plot(df['Actual'].iloc[0:11], label='Actual')\n",
    "plt.plot(df['LR'].iloc[0:11], label='LR')\n",
    "plt.legend()\n",
    "\n",
    "plt.subplot(222)\n",
    "plt.plot(df['Actual'].iloc[0:11], label='Actual')\n",
    "plt.plot(df['SVR'].iloc[0:11], label='SVR')\n",
    "plt.legend()\n",
    "\n",
    "plt.subplot(223)\n",
    "plt.plot(df['Actual'].iloc[0:11], label='Actual')\n",
    "plt.plot(df['RF'].iloc[0:11], label='RF')\n",
    "plt.legend()\n",
    "\n",
    "plt.subplot(224)\n",
    "plt.plot(df['Actual'].iloc[0:11], label='Actual')\n",
    "plt.plot(df['GB'].iloc[0:11], label='GB')\n",
    "plt.legend()"
   ]
  },
  {
   "cell_type": "markdown",
   "id": "4ce02006",
   "metadata": {},
   "source": [
    "### Model Evaluation\n",
    "- R2 Score\n",
    "- Mean Squared Error"
   ]
  },
  {
   "cell_type": "code",
   "execution_count": 82,
   "id": "f69569d6",
   "metadata": {},
   "outputs": [],
   "source": [
    "from sklearn.metrics import r2_score, mean_squared_error"
   ]
  },
  {
   "cell_type": "code",
   "execution_count": 83,
   "id": "b48307b1",
   "metadata": {},
   "outputs": [
    {
     "name": "stdout",
     "output_type": "stream",
     "text": [
      "0.7762723519584975 -0.0678556928604499 0.8565789898168489 0.8645363338085841\n"
     ]
    }
   ],
   "source": [
    "r2_1 = r2_score(y_test, y_pred1)\n",
    "r2_2 = r2_score(y_test, y_pred2)\n",
    "r2_3 = r2_score(y_test, y_pred3)\n",
    "r2_4 = r2_score(y_test, y_pred4)\n",
    "print(r2_1,r2_2,r2_3,r2_4)"
   ]
  },
  {
   "cell_type": "code",
   "execution_count": 84,
   "id": "b8f28947",
   "metadata": {},
   "outputs": [
    {
     "name": "stdout",
     "output_type": "stream",
     "text": [
      "34684742.91911977 165550840.5233512 22234716.67873726 21001080.90288027\n"
     ]
    }
   ],
   "source": [
    "mse1 = mean_squared_error(y_test,y_pred1)\n",
    "mse2 = mean_squared_error(y_test,y_pred2)\n",
    "mse3 = mean_squared_error(y_test,y_pred3)\n",
    "mse4 = mean_squared_error(y_test,y_pred4)\n",
    "print(mse1,mse2,mse3,mse4)"
   ]
  },
  {
   "cell_type": "markdown",
   "id": "06af0482",
   "metadata": {},
   "source": [
    "### Selected Model- Gradient Boosting\n",
    "- After training and testing 4 different models(Linear Regression, SVM, Random Forest and Gradient Boosting), the performance of Gradient Boosting is more close to the actual values.\n",
    "- Evaluation metrics also suggest that gboost is more accurate than other models."
   ]
  },
  {
   "cell_type": "markdown",
   "id": "9c73fd85",
   "metadata": {},
   "source": [
    "### Model Run-  to predict new prediction"
   ]
  },
  {
   "cell_type": "code",
   "execution_count": 85,
   "id": "e5d70e65",
   "metadata": {},
   "outputs": [
    {
     "data": {
      "text/html": [
       "<div>\n",
       "<style scoped>\n",
       "    .dataframe tbody tr th:only-of-type {\n",
       "        vertical-align: middle;\n",
       "    }\n",
       "\n",
       "    .dataframe tbody tr th {\n",
       "        vertical-align: top;\n",
       "    }\n",
       "\n",
       "    .dataframe thead th {\n",
       "        text-align: right;\n",
       "    }\n",
       "</style>\n",
       "<table border=\"1\" class=\"dataframe\">\n",
       "  <thead>\n",
       "    <tr style=\"text-align: right;\">\n",
       "      <th></th>\n",
       "      <th>age</th>\n",
       "      <th>gender</th>\n",
       "      <th>BMI</th>\n",
       "      <th>Children</th>\n",
       "      <th>smoking_status</th>\n",
       "      <th>location</th>\n",
       "    </tr>\n",
       "  </thead>\n",
       "  <tbody>\n",
       "    <tr>\n",
       "      <th>0</th>\n",
       "      <td>44</td>\n",
       "      <td>1</td>\n",
       "      <td>34.15</td>\n",
       "      <td>1</td>\n",
       "      <td>1</td>\n",
       "      <td>2</td>\n",
       "    </tr>\n",
       "  </tbody>\n",
       "</table>\n",
       "</div>"
      ],
      "text/plain": [
       "   age  gender    BMI  Children  smoking_status  location\n",
       "0   44       1  34.15         1               1         2"
      ]
     },
     "execution_count": 85,
     "metadata": {},
     "output_type": "execute_result"
    }
   ],
   "source": [
    "data = {'age':44, 'gender':1, 'BMI': 34.15, 'Children':1, 'smoking_status':1, 'location':2}\n",
    "df1 = pd.DataFrame(data, index=[0])\n",
    "df1"
   ]
  },
  {
   "cell_type": "code",
   "execution_count": 86,
   "id": "5858023b",
   "metadata": {},
   "outputs": [
    {
     "name": "stdout",
     "output_type": "stream",
     "text": [
      "New customer predicted insurance cost : [60061.76927788]\n"
     ]
    }
   ],
   "source": [
    "new_pred = gb.predict(df1)\n",
    "print(f'New customer predicted insurance cost : {new_pred}')"
   ]
  },
  {
   "cell_type": "markdown",
   "id": "2b261c84",
   "metadata": {},
   "source": []
  }
 ],
 "metadata": {
  "kernelspec": {
   "display_name": "Python 3 (ipykernel)",
   "language": "python",
   "name": "python3"
  },
  "language_info": {
   "codemirror_mode": {
    "name": "ipython",
    "version": 3
   },
   "file_extension": ".py",
   "mimetype": "text/x-python",
   "name": "python",
   "nbconvert_exporter": "python",
   "pygments_lexer": "ipython3",
   "version": "3.10.9"
  }
 },
 "nbformat": 4,
 "nbformat_minor": 5
}
